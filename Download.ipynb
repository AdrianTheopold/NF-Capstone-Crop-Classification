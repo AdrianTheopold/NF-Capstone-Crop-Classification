{
 "cells": [
  {
   "cell_type": "code",
   "execution_count": 3,
   "id": "73f356fe",
   "metadata": {},
   "outputs": [],
   "source": [
    "from radiant_mlhub import Collection\n",
    "import tarfile\n",
    "import os\n",
    "from pathlib import Path\n",
    "import json\n",
    "\n",
    "import datetime\n",
    "import rasterio\n",
    "import numpy as np\n",
    "import pandas as pd\n",
    "\n",
    "from sklearn.ensemble import RandomForestClassifier\n",
    "from sklearn.metrics import log_loss\n",
    "from sklearn.model_selection import StratifiedShuffleSplit"
   ]
  },
  {
   "cell_type": "code",
   "execution_count": null,
   "id": "8b0f0d91",
   "metadata": {},
   "outputs": [
    {
     "name": "stdout",
     "output_type": "stream",
     "text": [
      "Downloading ref_south_africa_crops_competition_v1_train_labels...\n"
     ]
    },
    {
     "data": {
      "application/vnd.jupyter.widget-view+json": {
       "model_id": "e14e81aa56724246b3460868a4553605",
       "version_major": 2,
       "version_minor": 0
      },
      "text/plain": [
       "  0%|          | 0/31.4 [00:00<?, ?M/s]"
      ]
     },
     "metadata": {},
     "output_type": "display_data"
    },
    {
     "name": "stdout",
     "output_type": "stream",
     "text": [
      "Downloading ref_south_africa_crops_competition_v1_train_source_s1...\n"
     ]
    },
    {
     "data": {
      "application/vnd.jupyter.widget-view+json": {
       "model_id": "a2bb57474e464f33a69a9f74b9597d7e",
       "version_major": 2,
       "version_minor": 0
      },
      "text/plain": [
       "  0%|          | 0/5987.8 [00:00<?, ?M/s]"
      ]
     },
     "metadata": {},
     "output_type": "display_data"
    },
    {
     "name": "stdout",
     "output_type": "stream",
     "text": [
      "Downloading ref_south_africa_crops_competition_v1_train_source_s2...\n"
     ]
    },
    {
     "data": {
      "application/vnd.jupyter.widget-view+json": {
       "model_id": "eb9b2c5d13954843a7403cbe42add1bd",
       "version_major": 2,
       "version_minor": 0
      },
      "text/plain": [
       "  0%|          | 0/55900.0 [00:00<?, ?M/s]"
      ]
     },
     "metadata": {},
     "output_type": "display_data"
    }
   ],
   "source": [
    "os.environ['MLHUB_API_KEY'] = '891fd695bf30e3fbd0e4bffbb149621de0b4f51d082b8eeac7ef0e7432ba94d2'\n",
    "\n",
    "collections = [\n",
    "    'ref_south_africa_crops_competition_v1_train_labels',\n",
    "    'ref_south_africa_crops_competition_v1_train_source_s1', # Comment this out if you do not wish to download the Sentinel-1 Data\n",
    "    'ref_south_africa_crops_competition_v1_train_source_s2',\n",
    "    'ref_south_africa_crops_competition_v1_test_labels',\n",
    "    'ref_south_africa_crops_competition_v1_test_source_s1', # Comment this out if you do not wish to download the Sentinel-1 Data\n",
    "    #'ref_south_africa_crops_competition_v1_test_source_s2'\n",
    "]\n",
    "\n",
    "def download(collection_id):\n",
    "    print(f'Downloading {collection_id}...')\n",
    "    collection = Collection.fetch(collection_id)\n",
    "    path = collection.download('.')\n",
    "    tar = tarfile.open(path, \"r:gz\")\n",
    "    tar.extractall()\n",
    "    tar.close()\n",
    "    os.remove(path)\n",
    "    \n",
    "def resolve_path(base, path):\n",
    "    return Path(os.path.join(base, path)).resolve()\n",
    "    \n",
    "def load_df(collection_id):\n",
    "    collection = json.load(open(f'{collection_id}/collection.json', 'r'))\n",
    "    rows = []\n",
    "    item_links = []\n",
    "    for link in collection['links']:\n",
    "        if link['rel'] != 'item':\n",
    "            continue\n",
    "        item_links.append(link['href'])\n",
    "        \n",
    "    for item_link in item_links:\n",
    "        item_path = f'{collection_id}/{item_link}'\n",
    "        current_path = os.path.dirname(item_path)\n",
    "        item = json.load(open(item_path, 'r'))\n",
    "        tile_id = item['id'].split('_')[-1]\n",
    "        for asset_key, asset in item['assets'].items():\n",
    "            rows.append([\n",
    "                tile_id,\n",
    "                None,\n",
    "                None,\n",
    "                asset_key,\n",
    "                str(resolve_path(current_path, asset['href']))\n",
    "            ])\n",
    "            \n",
    "        for link in item['links']:\n",
    "            if link['rel'] != 'source':\n",
    "                continue\n",
    "            link_path = resolve_path(current_path, link['href'])\n",
    "            source_path = os.path.dirname(link_path)\n",
    "            try:\n",
    "                source_item = json.load(open(link_path, 'r'))\n",
    "            except FileNotFoundError:\n",
    "                continue\n",
    "            datetime = source_item['properties']['datetime']\n",
    "            satellite_platform = source_item['collection'].split('_')[-1]\n",
    "            for asset_key, asset in source_item['assets'].items():\n",
    "                rows.append([\n",
    "                    tile_id,\n",
    "                    datetime,\n",
    "                    satellite_platform,\n",
    "                    asset_key,\n",
    "                    str(resolve_path(source_path, asset['href']))\n",
    "                ])\n",
    "    return pd.DataFrame(rows, columns=['tile_id', 'datetime', 'satellite_platform', 'asset', 'file_path'])\n",
    "\n",
    "for c in collections:\n",
    "    download(c)"
   ]
  },
  {
   "cell_type": "code",
   "execution_count": null,
   "id": "d5ecac81",
   "metadata": {},
   "outputs": [],
   "source": []
  }
 ],
 "metadata": {
  "environment": {
   "name": "tf2-gpu.2-3.m74",
   "type": "gcloud",
   "uri": "gcr.io/deeplearning-platform-release/tf2-gpu.2-3:m74"
  },
  "kernelspec": {
   "display_name": "Python 3",
   "language": "python",
   "name": "python3"
  },
  "language_info": {
   "codemirror_mode": {
    "name": "ipython",
    "version": 3
   },
   "file_extension": ".py",
   "mimetype": "text/x-python",
   "name": "python",
   "nbconvert_exporter": "python",
   "pygments_lexer": "ipython3",
   "version": "3.7.10"
  }
 },
 "nbformat": 4,
 "nbformat_minor": 5
}
